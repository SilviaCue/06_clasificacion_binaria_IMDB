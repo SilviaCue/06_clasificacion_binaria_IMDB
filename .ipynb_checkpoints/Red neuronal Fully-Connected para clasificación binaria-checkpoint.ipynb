{
 "cells": [
  {
   "cell_type": "markdown",
   "id": "7503c33c",
   "metadata": {},
   "source": [
    "# Red neuronal Fully-Connected para Clasificación binaria\n",
    "\n"
   ]
  },
  {
   "cell_type": "markdown",
   "id": "0a42c602",
   "metadata": {},
   "source": [
    "##### 1. Importaciones"
   ]
  },
  {
   "cell_type": "code",
   "execution_count": null,
   "id": "68d2e42c",
   "metadata": {},
   "outputs": [],
   "source": [
    "import numpy as np\n",
    "import pandas as pd\n",
    "import matplotlib.pyplot as plt\n",
    "import time\n",
    "import tensorflow as tf\n",
    "import logging"
   ]
  },
  {
   "cell_type": "markdown",
   "id": "1039cee9",
   "metadata": {},
   "source": [
    "##### 2. Ajuste detalles mensajes de errores"
   ]
  },
  {
   "cell_type": "code",
   "execution_count": null,
   "id": "5d8cfadc",
   "metadata": {},
   "outputs": [],
   "source": [
    "logging.getLogger(\"tensorflow\").setLevel(logging.ERROR)"
   ]
  },
  {
   "cell_type": "markdown",
   "id": "48ad8c46",
   "metadata": {},
   "source": [
    "##### 3. Importación DB (IMDB)"
   ]
  },
  {
   "cell_type": "code",
   "execution_count": null,
   "id": "d44ff5d6",
   "metadata": {},
   "outputs": [],
   "source": [
    "from tensorflow.keras.datasets import imdb\n"
   ]
  },
  {
   "cell_type": "markdown",
   "id": "22fb42a5",
   "metadata": {},
   "source": [
    "##### 4. Carga de datos"
   ]
  },
  {
   "cell_type": "code",
   "execution_count": null,
   "id": "904a5d84",
   "metadata": {},
   "outputs": [],
   "source": [
    "# se divide los datos para entrenar modelo y para testear rendimiento del modelo entrenado\n",
    "(train_data, train_labels),(test_data, test_labels)=imdb.load_data(num_words=10000)"
   ]
  },
  {
   "cell_type": "markdown",
   "id": "1ffaf1a8",
   "metadata": {},
   "source": [
    "##### 5. Función para contar frecuencia palabras"
   ]
  },
  {
   "cell_type": "code",
   "execution_count": null,
   "id": "10d1dd63",
   "metadata": {},
   "outputs": [],
   "source": [
    "# Devuelve la frecuencia\n",
    "def to_vector(review):\n",
    "    x=np.zeros(10000)\n",
    "    for n in review:\n",
    "        x[n]+=1.\n",
    "        return x"
   ]
  },
  {
   "cell_type": "markdown",
   "id": "47fc4dc3",
   "metadata": {},
   "source": [
    "##### 6. Conversión de datos"
   ]
  },
  {
   "cell_type": "code",
   "execution_count": null,
   "id": "3be904e0",
   "metadata": {},
   "outputs": [],
   "source": [
    "# Conversión de datos para entrenamiento modelo.\n",
    "X_train = np.zeros((25000, 10000))\n",
    "for i, x in enumerate(train_data):\n",
    "    X_train[i]=to_vector(x)\n"
   ]
  },
  {
   "cell_type": "code",
   "execution_count": null,
   "id": "8e43bef4",
   "metadata": {},
   "outputs": [],
   "source": [
    "# Conversión de datos para evalución modelo entrenamiento.\n",
    "X_test =np.zeros((25000, 10000))\n",
    "for i, x in enumerate(test_data):\n",
    "    X_test[i]= to_vector(x)\n",
    "    "
   ]
  },
  {
   "cell_type": "markdown",
   "id": "42239035",
   "metadata": {},
   "source": [
    "##### 7. División de los datos de entrenamiento en 70% y 30%"
   ]
  },
  {
   "cell_type": "code",
   "execution_count": null,
   "id": "78485f8b",
   "metadata": {},
   "outputs": [],
   "source": [
    "# Asignación de un índice aleatorio y selección del 70%.\n",
    "rand_idx = np.random.permutation(25000)\n",
    "n_train = int(0.7 * np.size(train_data, 0))\n",
    "\n",
    "# Selección del 70% de datos para entrenamiento y del 30% para validación del modelo.\n",
    "X_train, X_val = X_train[rand_idx[:n_train]], X_train[rand_idx[n_train:]]\n",
    "\n",
    "# 30% restante para validación\n",
    "y_train, y_val = train_labels[rand_idx[:n_train]], train_labels[rand_idx[n_train:]]\n",
    "\n"
   ]
  },
  {
   "cell_type": "markdown",
   "id": "c3ba8d65",
   "metadata": {},
   "source": [
    "##### 8. Definición del modelo"
   ]
  },
  {
   "cell_type": "code",
   "execution_count": null,
   "id": "75a21bd4",
   "metadata": {},
   "outputs": [],
   "source": [
    "# Creación de variables para almacenar modelos e historiales de entrenamiento.\n",
    "models ={}\n",
    "his = {}\n",
    "\n",
    "#Variable para almacenar cantidad de neuronas por capa:\n",
    "\n",
    "Hs = [2,4,6,8]\n",
    "\n",
    "\n",
    "# Definición del modelo\n",
    "for h in Hs:   \n",
    "    models[h] = tf.keras.Sequencial()\n",
    "    models[h].add(tf.keras.layers.Dense(h, input_shape=(10000,), activation='relu'))\n",
    "    models[h].add(tf.keras.layers.Dense(1,activation='sigmoid'))\n",
    "    \n",
    "    "
   ]
  },
  {
   "cell_type": "markdown",
   "id": "1ce038a3",
   "metadata": {},
   "source": [
    "##### 9. Compilación del modelo"
   ]
  },
  {
   "cell_type": "code",
   "execution_count": null,
   "id": "2d64bfe5",
   "metadata": {},
   "outputs": [],
   "source": [
    "#Algotimo de Optimización, Función de coste y medidas de rendimiento\n",
    "models[h].compile(loss='binary_crossentropy', optimizer='adam',metrics=['accuracy'])"
   ]
  },
  {
   "cell_type": "markdown",
   "id": "080eb936",
   "metadata": {},
   "source": [
    "##### 10. Entrenamiento del modelo"
   ]
  },
  {
   "cell_type": "code",
   "execution_count": null,
   "id": "34d9cadd",
   "metadata": {},
   "outputs": [],
   "source": [
    "# Entrenamiento y cálculo tiempo de entrenamiento\n",
    "start = time.time()\n",
    "history = models[h].fit(X_train, y_train, epochs=30, batch_size=128, validation_data=(X_val,y_val), verbose=1)\n",
    "end_time = time.time()-start"
   ]
  },
  {
   "cell_type": "markdown",
   "id": "e5a9849a",
   "metadata": {},
   "source": [
    "##### 11. Historial del entrenamiento"
   ]
  },
  {
   "cell_type": "code",
   "execution_count": null,
   "id": "ac38b545",
   "metadata": {},
   "outputs": [],
   "source": [
    "# Variable con el historial del entrenamiento\n",
    "his[h] = history.history\n",
    "\n",
    "#Impresión del historial de entrenamiento de \"h\":\n",
    "print('Entrenamiento con h= {:.0f}; Parámetros (#)= {:.0f}; Prec. Validación= {:.3f}; t. entrenamiento (s)={:.3f}'\n",
    "      .format(h,models[h].count_params(),his[h]['val_acc'][-1],end_time))"
   ]
  },
  {
   "cell_type": "markdown",
   "id": "9fd69b2b",
   "metadata": {},
   "source": [
    "##### 12. Gráfico para valoración función coste"
   ]
  },
  {
   "cell_type": "code",
   "execution_count": null,
   "id": "554956a5",
   "metadata": {},
   "outputs": [],
   "source": [
    "# Función coste: la discrepancia entre las probabilidades predichas por el modelo y las etiquetas verdaderas. (Train)\n",
    "fig,ax = plt.subplots(1,2,figsize=(16,6))\n",
    "for h in Hs:\n",
    "    ax[0].plot(his[h]['loss'], label='{:.0f} neurons'.format(h))\n",
    "    ax[0].set_xlabel('Epochs')\n",
    "    ax[0].set_ylabel('Loss')\n",
    "    \n",
    "    ax[1].plot(his[h]['val_loss'], label='{:.0f} neurons'.format(h))\n",
    "    ax[1].set_xlabel('Epochs')\n",
    "    ax[1].set_ylabel('Loss')\n",
    "\n",
    "ax[0].legend()\n",
    "ax[1].legend()\n",
    "ax[0].grid()\n",
    "ax[0].set_title('Train')\n",
    "ax[1].set_title('Validation')\n",
    "ax[1].grid()\n",
    "fig.suptitle('Loss (Binary Crossentropy)',fontsize=20)\n",
    "plt.show();"
   ]
  },
  {
   "cell_type": "markdown",
   "id": "b6e3353c",
   "metadata": {},
   "source": [
    "##### 13. Gráfico para valoración de la precisión del entremiento"
   ]
  },
  {
   "cell_type": "code",
   "execution_count": null,
   "id": "09647be0",
   "metadata": {},
   "outputs": [],
   "source": [
    "# Qué tán bien esta funcionando el entrenamiento para valorar si hay sobreajuste. (Validation)\n",
    "fig,ax = plt.subplots(1,2,figsize=(16,6))\n",
    "for h in Hs:\n",
    "    ax[0].plot(his[h]['acc'], label='{:.0f} neurons'.format(h))\n",
    "    ax[0].set_xlabel('Epochs')\n",
    "    ax[0].set_ylabel('Accuracy')\n",
    "    \n",
    "    ax[1].plot(his[h]['val_acc'], label='{:.0f} neurons'.format(h))\n",
    "    ax[1].set_xlabel('Epochs')\n",
    "    ax[1].set_ylabel('Accuracy')\n",
    "\n",
    "ax[0].legend()\n",
    "ax[1].legend()\n",
    "ax[0].grid()\n",
    "ax[0].set_title('Train')\n",
    "ax[1].set_title('Validation')\n",
    "ax[1].grid()\n",
    "fig.suptitle('Accuracy')\n",
    "plt.show();"
   ]
  },
  {
   "cell_type": "code",
   "execution_count": null,
   "id": "044ed0df",
   "metadata": {},
   "outputs": [],
   "source": []
  },
  {
   "cell_type": "code",
   "execution_count": null,
   "id": "bbd6b7b3",
   "metadata": {},
   "outputs": [],
   "source": []
  },
  {
   "cell_type": "code",
   "execution_count": null,
   "id": "f1bd7646",
   "metadata": {},
   "outputs": [],
   "source": []
  }
 ],
 "metadata": {
  "kernelspec": {
   "display_name": "Python 3 (ipykernel)",
   "language": "python",
   "name": "python3"
  },
  "language_info": {
   "codemirror_mode": {
    "name": "ipython",
    "version": 3
   },
   "file_extension": ".py",
   "mimetype": "text/x-python",
   "name": "python",
   "nbconvert_exporter": "python",
   "pygments_lexer": "ipython3",
   "version": "3.11.4"
  }
 },
 "nbformat": 4,
 "nbformat_minor": 5
}
