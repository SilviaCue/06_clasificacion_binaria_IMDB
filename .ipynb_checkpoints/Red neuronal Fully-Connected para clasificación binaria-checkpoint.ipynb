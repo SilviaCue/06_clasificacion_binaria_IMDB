{
 "cells": [
  {
   "cell_type": "markdown",
   "id": "7503c33c",
   "metadata": {},
   "source": [
    "# Red neuronal Fully-Connected para Clasificación binaria\n",
    "\n"
   ]
  },
  {
   "cell_type": "markdown",
   "id": "0a42c602",
   "metadata": {},
   "source": [
    "##### 1. Importaciones"
   ]
  },
  {
   "cell_type": "code",
   "execution_count": 11,
   "id": "68d2e42c",
   "metadata": {},
   "outputs": [],
   "source": [
    "import numpy as np\n",
    "import pandas as pd\n",
    "import matplotlib.pyplot as plt\n",
    "import time\n",
    "import tensorflow as tf\n",
    "import logging"
   ]
  },
  {
   "cell_type": "markdown",
   "id": "1039cee9",
   "metadata": {},
   "source": [
    "##### 2. Ajuste detalles mensajes de errores"
   ]
  },
  {
   "cell_type": "code",
   "execution_count": 12,
   "id": "5d8cfadc",
   "metadata": {},
   "outputs": [],
   "source": [
    "logging.getLogger(\"tensorflow\").setLevel(logging.ERROR)"
   ]
  },
  {
   "cell_type": "markdown",
   "id": "48ad8c46",
   "metadata": {},
   "source": [
    "##### 3. Importación DB (IMDB)"
   ]
  },
  {
   "cell_type": "code",
   "execution_count": 13,
   "id": "d44ff5d6",
   "metadata": {},
   "outputs": [],
   "source": [
    "from tensorflow.keras.datasets import imdb\n"
   ]
  },
  {
   "cell_type": "markdown",
   "id": "22fb42a5",
   "metadata": {},
   "source": [
    "##### 4. Carga de datos"
   ]
  },
  {
   "cell_type": "code",
   "execution_count": 14,
   "id": "904a5d84",
   "metadata": {},
   "outputs": [],
   "source": [
    "# se divide los datos para entrenar modelo y para testear rendimiento del modelo entrenado\n",
    "(train_data, train_labels),(test_data, test_labels)=imdb.load_data(num_words=10000)"
   ]
  },
  {
   "cell_type": "markdown",
   "id": "1ffaf1a8",
   "metadata": {},
   "source": [
    "##### 5. Función para contar frecuencia palabras"
   ]
  },
  {
   "cell_type": "code",
   "execution_count": 15,
   "id": "10d1dd63",
   "metadata": {},
   "outputs": [],
   "source": [
    "# Devuelve la frecuencia\n",
    "def to_vector(review):\n",
    "    x=np.zeros(10000)\n",
    "    for n in review:\n",
    "        x[n]+=1.\n",
    "        return x"
   ]
  },
  {
   "cell_type": "markdown",
   "id": "47fc4dc3",
   "metadata": {},
   "source": [
    "##### 6. Conversión de datos"
   ]
  },
  {
   "cell_type": "code",
   "execution_count": 2,
   "id": "3be904e0",
   "metadata": {},
   "outputs": [
    {
     "ename": "NameError",
     "evalue": "name 'np' is not defined",
     "output_type": "error",
     "traceback": [
      "\u001b[1;31m---------------------------------------------------------------------------\u001b[0m",
      "\u001b[1;31mNameError\u001b[0m                                 Traceback (most recent call last)",
      "Cell \u001b[1;32mIn[2], line 2\u001b[0m\n\u001b[0;32m      1\u001b[0m \u001b[38;5;66;03m# Conversión de datos para entrenamiento modelo.\u001b[39;00m\n\u001b[1;32m----> 2\u001b[0m X_train \u001b[38;5;241m=\u001b[39m \u001b[43mnp\u001b[49m\u001b[38;5;241m.\u001b[39mzeros((\u001b[38;5;241m25000\u001b[39m, \u001b[38;5;241m10000\u001b[39m))\n\u001b[0;32m      3\u001b[0m \u001b[38;5;28;01mfor\u001b[39;00m i, x \u001b[38;5;129;01min\u001b[39;00m \u001b[38;5;28menumerate\u001b[39m(train_data):\n\u001b[0;32m      4\u001b[0m     X_train[i]\u001b[38;5;241m=\u001b[39mto_vector(x)\n",
      "\u001b[1;31mNameError\u001b[0m: name 'np' is not defined"
     ]
    }
   ],
   "source": [
    "# Conversión de datos para entrenamiento modelo.\n",
    "X_train = np.zeros((25000, 10000))\n",
    "for i, x in enumerate(train_data):\n",
    "    X_train[i]=to_vector(x)\n"
   ]
  },
  {
   "cell_type": "code",
   "execution_count": 17,
   "id": "8e43bef4",
   "metadata": {},
   "outputs": [],
   "source": [
    "# Conversión de datos para evalución modelo entrenamiento.\n",
    "X_test =np.zeros((25000, 10000))\n",
    "for i, x in enumerate(test_data):\n",
    "    X_test[i]= to_vector(x)\n",
    "    "
   ]
  },
  {
   "cell_type": "markdown",
   "id": "42239035",
   "metadata": {},
   "source": [
    "##### 7. División de los datos de entrenamiento en 70% y 30%"
   ]
  },
  {
   "cell_type": "code",
   "execution_count": 1,
   "id": "78485f8b",
   "metadata": {},
   "outputs": [
    {
     "ename": "NameError",
     "evalue": "name 'np' is not defined",
     "output_type": "error",
     "traceback": [
      "\u001b[1;31m---------------------------------------------------------------------------\u001b[0m",
      "\u001b[1;31mNameError\u001b[0m                                 Traceback (most recent call last)",
      "Cell \u001b[1;32mIn[1], line 2\u001b[0m\n\u001b[0;32m      1\u001b[0m \u001b[38;5;66;03m# Asignación de un índice aleatorio y selección del 70%.\u001b[39;00m\n\u001b[1;32m----> 2\u001b[0m rand_idx \u001b[38;5;241m=\u001b[39m \u001b[43mnp\u001b[49m\u001b[38;5;241m.\u001b[39mrandom\u001b[38;5;241m.\u001b[39mpermutation(\u001b[38;5;241m25000\u001b[39m)\n\u001b[0;32m      3\u001b[0m n_train \u001b[38;5;241m=\u001b[39m \u001b[38;5;28mint\u001b[39m(\u001b[38;5;241m0.7\u001b[39m \u001b[38;5;241m*\u001b[39m np\u001b[38;5;241m.\u001b[39msize(train_data, \u001b[38;5;241m0\u001b[39m))\n\u001b[0;32m      5\u001b[0m \u001b[38;5;66;03m# Selección del 70% de datos para entrenamiento y del 30% para validación del modelo.\u001b[39;00m\n",
      "\u001b[1;31mNameError\u001b[0m: name 'np' is not defined"
     ]
    }
   ],
   "source": [
    "# Asignación de un índice aleatorio y selección del 70%.\n",
    "rand_idx = np.random.permutation(25000)\n",
    "n_train = int(0.7 * np.size(train_data, 0))\n",
    "\n",
    "# Selección del 70% de datos para entrenamiento y del 30% para validación del modelo.\n",
    "X_train, X_val = X_train[rand_idx[:n_train]], X_train[rand_idx[n_train:]]\n",
    "\n",
    "# 30% restante para validación\n",
    "y_train, y_val = train_labels[rand_idx[:n_train]], train_labels[rand_idx[n_train:]]\n",
    "\n"
   ]
  },
  {
   "cell_type": "code",
   "execution_count": null,
   "id": "19c24b01",
   "metadata": {},
   "outputs": [],
   "source": []
  },
  {
   "cell_type": "code",
   "execution_count": null,
   "id": "b04de374",
   "metadata": {},
   "outputs": [],
   "source": []
  }
 ],
 "metadata": {
  "kernelspec": {
   "display_name": "Python 3 (ipykernel)",
   "language": "python",
   "name": "python3"
  },
  "language_info": {
   "codemirror_mode": {
    "name": "ipython",
    "version": 3
   },
   "file_extension": ".py",
   "mimetype": "text/x-python",
   "name": "python",
   "nbconvert_exporter": "python",
   "pygments_lexer": "ipython3",
   "version": "3.11.4"
  }
 },
 "nbformat": 4,
 "nbformat_minor": 5
}
