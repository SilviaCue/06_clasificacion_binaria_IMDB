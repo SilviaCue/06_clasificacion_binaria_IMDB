{
 "cells": [
  {
   "cell_type": "markdown",
   "id": "7503c33c",
   "metadata": {},
   "source": [
    "# Red neuronal Fully-Connected para Clasificación binaria\n",
    "\n"
   ]
  },
  {
   "cell_type": "markdown",
   "id": "0a42c602",
   "metadata": {},
   "source": [
    "##### 1. Importaciones"
   ]
  },
  {
   "cell_type": "code",
   "execution_count": 1,
   "id": "68d2e42c",
   "metadata": {},
   "outputs": [],
   "source": [
    "import numpy as np\n",
    "import pandas as pd\n",
    "import matplotlib.pyplot as plt\n",
    "import time\n",
    "import tensorflow as tf\n",
    "import logging\n"
   ]
  },
  {
   "cell_type": "markdown",
   "id": "1039cee9",
   "metadata": {},
   "source": [
    "##### 2. Ajuste detalles mensajes de errores"
   ]
  },
  {
   "cell_type": "code",
   "execution_count": 2,
   "id": "5d8cfadc",
   "metadata": {},
   "outputs": [],
   "source": [
    "logging.getLogger(\"tensorflow\").setLevel(logging.ERROR)"
   ]
  },
  {
   "cell_type": "markdown",
   "id": "48ad8c46",
   "metadata": {},
   "source": [
    "##### 3. Importación DB (IMDB)"
   ]
  },
  {
   "cell_type": "code",
   "execution_count": 3,
   "id": "d44ff5d6",
   "metadata": {},
   "outputs": [],
   "source": [
    "from tensorflow.keras.datasets import imdb\n"
   ]
  },
  {
   "cell_type": "markdown",
   "id": "22fb42a5",
   "metadata": {},
   "source": [
    "##### 4. Carga de datos"
   ]
  },
  {
   "cell_type": "code",
   "execution_count": 4,
   "id": "904a5d84",
   "metadata": {},
   "outputs": [],
   "source": [
    "# se divide los datos para entrenar modelo y para testear rendimiento del modelo entrenado\n",
    "(train_data, train_labels),(test_data, test_labels)=imdb.load_data(num_words=10000)\n"
   ]
  },
  {
   "cell_type": "markdown",
   "id": "1ffaf1a8",
   "metadata": {},
   "source": [
    "##### 5. Función para contar frecuencia palabras"
   ]
  },
  {
   "cell_type": "code",
   "execution_count": 9,
   "id": "10d1dd63",
   "metadata": {},
   "outputs": [],
   "source": [
    "# Devuelve la frecuencia\n",
    "def to_vector(review):\n",
    "    x=np.zeros(10000)\n",
    "    for n in review:\n",
    "        x[n]+=1.\n",
    "        return x"
   ]
  },
  {
   "cell_type": "markdown",
   "id": "47fc4dc3",
   "metadata": {},
   "source": [
    "##### 6. Conversión de datos"
   ]
  },
  {
   "cell_type": "code",
   "execution_count": 10,
   "id": "3be904e0",
   "metadata": {},
   "outputs": [],
   "source": [
    "# Conversión de datos para entrenamiento modelo.\n",
    "X_train = np.zeros((25000, 10000))\n",
    "for i, x in enumerate(train_data):\n",
    "    X_train[i]=to_vector(x)\n"
   ]
  },
  {
   "cell_type": "code",
   "execution_count": 12,
   "id": "8e43bef4",
   "metadata": {},
   "outputs": [],
   "source": [
    "# Conversión de datos para evalución modelo entrenamiento.\n",
    "X_test =np.zeros((25000, 10000))\n",
    "for i, x in enumerate(test_data):\n",
    "    X_test[i]= to_vector(x)\n",
    "    "
   ]
  },
  {
   "cell_type": "markdown",
   "id": "867fdd93",
   "metadata": {},
   "source": [
    "##### 7. División conjunto de entrenamiento"
   ]
  },
  {
   "cell_type": "code",
   "execution_count": null,
   "id": "c9e71dd8",
   "metadata": {},
   "outputs": [],
   "source": [
    "#División COnjunto de entrea en un 70% y un 30%  ------Finalizar\n",
    "rand_idx 0 np.random.permutation(25000)"
   ]
  },
  {
   "cell_type": "code",
   "execution_count": null,
   "id": "17cf4ad9",
   "metadata": {},
   "outputs": [],
   "source": []
  },
  {
   "cell_type": "code",
   "execution_count": null,
   "id": "64a44c18",
   "metadata": {},
   "outputs": [],
   "source": []
  }
 ],
 "metadata": {
  "kernelspec": {
   "display_name": "Python 3 (ipykernel)",
   "language": "python",
   "name": "python3"
  },
  "language_info": {
   "codemirror_mode": {
    "name": "ipython",
    "version": 3
   },
   "file_extension": ".py",
   "mimetype": "text/x-python",
   "name": "python",
   "nbconvert_exporter": "python",
   "pygments_lexer": "ipython3",
   "version": "3.11.4"
  }
 },
 "nbformat": 4,
 "nbformat_minor": 5
}
